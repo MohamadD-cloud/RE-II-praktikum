{
 "cells": [
  {
   "cell_type": "code",
   "execution_count": 48,
   "id": "31a07495-0b96-4bc4-ae90-b06a42473639",
   "metadata": {},
   "outputs": [
    {
     "data": {
      "text/html": [
       "\n",
       "<div style=\"text-align: center\">\n",
       "     <center>   <img src=\"https://thga.sciebo.de/s/PMFfmxdyEcrEr3P/download\" style=\"width: 550px;\"></center>\n",
       "    <h1 style=\"font-size: 26pt; margin-bottom: 10px;\">Protokoll zum Versuch: Windkraft</h1>\n",
       "    <h2 style=\"font-size: 18pt; margin-bottom: 5px;\">\n",
       "      <span style=\"font-weight: bold;\">  Praktikum:</span> Regenerative Energien II\n",
       "    </h2>\n",
       "    <h2 style=\"font-size: 18pt;\">\n",
       "        <span style=\"font-weight: bold;\">  Semester:</span>  : Wintersemester 2025/26\n",
       "    </h2>\n",
       "</div>\n",
       "<div style=\"font-weight: bold; text-align: left; font-size: 14pt; line-height: 1.8;\">\n",
       "    <p>Name: _____________________________________</p>\n",
       "    <p>Matrikelnummer: ____________________________</p>\n",
       "    <p>Gruppe: ____________________________________</p>\n",
       "    <p>Versuchstag: _______________________________</p>\n",
       "    <p>Durchgeführter Versuch: _____________________</p>\n",
       "    <p>Praktikumsleitung: ___________________________</p>\n",
       "</div>\n",
       "\n"
      ],
      "text/plain": [
       "<IPython.core.display.HTML object>"
      ]
     },
     "metadata": {},
     "output_type": "display_data"
    }
   ],
   "source": [
    "from IPython.display import display, HTML\n",
    "\n",
    "display(HTML(\"\"\"\n",
    "<div style=\"text-align: center\">\n",
    "     <center>   <img src=\"https://thga.sciebo.de/s/PMFfmxdyEcrEr3P/download\" style=\"width: 550px;\"></center>\n",
    "    <h1 style=\"font-size: 26pt; margin-bottom: 10px;\">Protokoll zum Versuch: Windkraft</h1>\n",
    "    <h2 style=\"font-size: 18pt; margin-bottom: 5px;\">\n",
    "      <span style=\"font-weight: bold;\">  Praktikum:</span> Regenerative Energien II\n",
    "    </h2>\n",
    "    <h2 style=\"font-size: 18pt;\">\n",
    "        <span style=\"font-weight: bold;\">  Semester:</span>  : Wintersemester 2025/26\n",
    "    </h2>\n",
    "</div>\n",
    "<div style=\"font-weight: bold; text-align: left; font-size: 14pt; line-height: 1.8;\">\n",
    "    <p>Name: _____________________________________</p>\n",
    "    <p>Matrikelnummer: ____________________________</p>\n",
    "    <p>Gruppe: ____________________________________</p>\n",
    "    <p>Versuchstag: _______________________________</p>\n",
    "    <p>Durchgeführter Versuch: _____________________</p>\n",
    "    <p>Praktikumsleitung: ___________________________</p>\n",
    "</div>\n",
    "\n",
    "\"\"\"))\n"
   ]
  },
  {
   "cell_type": "markdown",
   "id": "fc6ce777-8223-4f47-aff6-607739e515a1",
   "metadata": {
    "jp-MarkdownHeadingCollapsed": true
   },
   "source": [
    "# Inhaltsverzeichnis\n",
    "\n",
    "<p style=\"font-size:14pt;\">\n",
    "  <strong>1.</strong> Einleitung .................................................. [  ]<br>\n",
    "  <strong>2.</strong> Durchführung ................................................. [  ]<br>\n",
    "  <strong>3.</strong> Ergebnisse ................................................... [  ]<br>\n",
    "  <strong>4.</strong> Quellen ...................................................... [  ]\n",
    "</p>"
   ]
  },
  {
   "cell_type": "markdown",
   "id": "411214e0-59e4-4753-ae40-afb3def7ad83",
   "metadata": {},
   "source": [
    "# 1. Einleitung"
   ]
  },
  {
   "cell_type": "markdown",
   "id": "beadc0b8-c82e-4f00-aef9-6993a4fc647b",
   "metadata": {},
   "source": [
    "**Hinweis zur Bearbeitung:**\n",
    "\n",
    "Bevor Sie mit dem Versuch beginnen, formulieren Sie bitte eine kurze Einleitung. Sie soll in eigenen Worten darstellen, was Sie erwarten, was Sie über Windkraft bereits wissen und warum dieser Versuch aus Ihrer Sicht relevant ist.\n",
    "\n",
    "Sie müssen dabei nicht alle technischen Details vorwegnehmen. es geht darum, Ihr Verständnis, oder Ihr Vorwissen schriftlich festzuhalten.\n",
    "\n",
    " **Denkanstöße für Ihre Einleitung:**\n",
    "\n",
    "- Welche Rolle spielt Windkraft in der Energiewende?\n",
    "- Was wissen Sie bereits über den physikalischen Zusammenhang zwischen Wind, Druck und Energiegewinnung?\n",
    "- Welche Unterschiede zwischen horizontalen und vertikalen Windkraftanlagen kennen Sie?\n",
    "- Was sind aus Ihrer Sicht zentrale Bauteile einer Windkraftanlage und wie funktioniert der Energiefluss?\n",
    "- Warum lohnt es sich, Windkraft experimentell im Praktikum zu untersuchen?\n",
    "- Wie wurde Windenergie historisch genutzt und was hat sich seither verändert?\n",
    "\n",
    " **Tragen Sie Ihre eigene Einleitung im folgenden Feld ein:**"
   ]
  },
  {
   "cell_type": "code",
   "execution_count": null,
   "id": "66da4be3-29b6-4ff7-be76-4a6b4a6310ad",
   "metadata": {},
   "outputs": [],
   "source": []
  },
  {
   "cell_type": "markdown",
   "id": "f370678f-ce30-4bc4-8737-e77a240b3124",
   "metadata": {},
   "source": [
    "---"
   ]
  },
  {
   "cell_type": "markdown",
   "id": "90ca833b-16a0-4a19-9c48-f5ef58121fe6",
   "metadata": {},
   "source": [
    "# 2. Durchführung"
   ]
  },
  {
   "cell_type": "markdown",
   "id": "3b1af718-2b42-437d-8c60-f802ef3c855e",
   "metadata": {},
   "source": [
    "In diesem Versuch werden drei verschiedene Teilversuche durchgeführt, um unterschiedliche Einflussfaktoren auf die Leistungsfähigkeit von Windkraftanlagen zu untersuchen.  \n",
    "Das Experiment basiert auf einem Winderzeugermodul, das mithilfe eines Powermoduls mit 9 V (bzw. 12 V) betrieben wird. Die Messung elektrischer Größen erfolgte mit einem AV-Modul.  \n",
    "Die Drehzahl werden mit einem optischen Digital-Drehzahlmessgerät gemessen. Als Windquelle dient ein kleiner Windkanal.\n",
    "\n",
    "Die drei Versuche sind inhaltlich wie folgt aufgebaut:\n",
    "\n",
    "\n",
    "### 2.1 Versuch 1: Rotorbauarten und Blattformen\n",
    "\n",
    " **Aufbau, Geräte & Komponenten:**  \n",
    "- 3- und 4-Blatt-Rotoren  \n",
    "- Optimiertes vs. flaches Profil  \n",
    "- Horizontale und vertikale Achse (z. B. Savonius)  \n",
    "- AV-Modul, Powermodul (9 V), Drehzahlmessgerät\n",
    "\n",
    " **Messgrößen:**  \n",
    "- Drehzahl (min⁻¹), Spannung U (V), Strom I (mA)\n",
    "\n",
    " **Ihre Aufgabe:**  \n",
    "Beschreiben Sie hier **in eigenen Worten**\" den Aufbau, die Durchführung und Ihre Beobachtungen.\n",
    "- Was wird in welcher Reihenfolge aufgebaut/gemessen?  \n",
    "- Welche Unterschiede können Sie bei den verschiedenen Rotoren beobachten?\n",
    "\n",
    "> _Hinweis: Denken Sie an die Schritte „Aufbau, Messung, Beobachtung“._\n",
    "\n",
    " **Im folgenden Feld Ihre eigene Beschreibung und Beobachtungen eintragen:**\n"
   ]
  },
  {
   "cell_type": "markdown",
   "id": "c11e0a5c-ee2a-4719-b42e-625c80788e8a",
   "metadata": {},
   "source": []
  },
  {
   "cell_type": "markdown",
   "id": "e36457f1-0eee-4192-8912-be2f8d44c8f5",
   "metadata": {},
   "source": [
    "---"
   ]
  },
  {
   "cell_type": "markdown",
   "id": "71c7912a-e18a-4a5a-a7b0-12b6e9fb60c8",
   "metadata": {},
   "source": [
    "### 2.2 Versuch 2: Einfluss des Anstellwinkels\n",
    "\n",
    " **Aufbau, Geräte & Komponenten:**  \n",
    "- 3-Blatt-Rotor mit optimiertem Profil  \n",
    "- Verschiedene Anstellwinkel: 20°, 25°, 30°, 50°  \n",
    "- AV-Modul, Powermodul (9 V), Drehzahlmessgerät\n",
    "\n",
    " **Messgrößen:**  \n",
    "- Drehzahl $(min⁻¹)$, Spannung $U$ $(V)$, Strom $I$ $(mA)$\n",
    "\n",
    " **Ihre Aufgabe:**  \n",
    "Erklären Sie den Ablauf der Messreihe bei unterschiedlichen Anstellwinkeln.  \n",
    "Was wird variiert? Wie wird gemessen?\n",
    "\n",
    " **Im folgenden Feld Ihre eigene Beschreibung und Beobachtungen eintragen:**\n"
   ]
  },
  {
   "cell_type": "code",
   "execution_count": null,
   "id": "23c72b5a-c702-46a3-95b8-ecf4143662e8",
   "metadata": {},
   "outputs": [],
   "source": []
  },
  {
   "cell_type": "markdown",
   "id": "920402ad-1c35-470f-b61c-a389ea096e37",
   "metadata": {},
   "source": [
    "---"
   ]
  },
  {
   "cell_type": "markdown",
   "id": "eb38550c-e141-4203-aff4-17991b12e262",
   "metadata": {},
   "source": [
    "### 2.3 Versuch 3: Energiebilanz, Wirkungsgrad und Schnelllaufzahl\n",
    "\n",
    " **Aufbau, Geräte & Komponenten:**  \n",
    "- 3-Blatt-Rotor, optimiertes Profil  \n",
    "- Betrieb mit 9 V und 12 V  \n",
    "- Windmessgerät zur Erfassung von \\( v_{\\text{Wind}} \\)  \n",
    "- Temperaturmessung, Rotordurchmesser\n",
    "\n",
    " **Messgrößen:**  \n",
    "- Drehzahl (min⁻¹), Windgeschwindigkeit v (m/s), Spannung (V), Strom (mA), Temperatur (°C)\n",
    "\n",
    " **Ihre Aufgabe:**  \n",
    "Dokumentieren Sie den Ablauf dieses Versuchs.  \n",
    "Welche Werte müssen aufgenommen werden, um die Energieumwandlung zu bestimmen?  \n",
    "Wie wird die Windgeschwindigkeit gemessen?\n",
    "\n",
    "> _Hinweis: Achten Sie auf den Zusammenhang von mechanischer und elektrischer Energie._\n",
    "\n",
    " **Im folgenden Feld Ihre eigene Beschreibung und Beobachtungen eintragen:**\n"
   ]
  },
  {
   "cell_type": "markdown",
   "id": "561f63f6-3f1a-4999-9880-5e28fd0d7d31",
   "metadata": {},
   "source": []
  },
  {
   "cell_type": "markdown",
   "id": "6776f4c9-1013-4c7d-9a14-c42627e70ebf",
   "metadata": {},
   "source": [
    "---"
   ]
  },
  {
   "cell_type": "markdown",
   "id": "2afecbdf-02c4-4392-b0b8-34de97e50ad8",
   "metadata": {},
   "source": [
    "# 3. Ergebnisse"
   ]
  },
  {
   "cell_type": "markdown",
   "id": "d476b9e0-5b9d-4952-9a1e-c8fca2e00236",
   "metadata": {},
   "source": [
    "## 3.1. Versuch 1: Vergleichende Leistungsmessung verschiedener Rotorbauarten und Blattformen\n",
    "\n",
    "Zur Auswertung wird die elektrische Leistung des Generators berechnet mit folgender Formel:\n",
    "\n",
    "$$\n",
    "P = U \\cdot I\n",
    "$$\n",
    "\n",
    "Dabei gilt:\n",
    "- $(P)$: elektrische Leistung in $mW$  \n",
    "- $(U)$: Spannung in Volt $[V] $ \n",
    "- $(I)$: Stromstärke in Milliampere $[mA]$\n",
    "\n",
    "---\n",
    "**Hinweis:** Im folgenden Codeblock ist ein **unvollständig ausgearbeitetes Beispiel** für den 3 Blatt-Rotor mit optimiertem Profil dargestellt.\n",
    "\n",
    "---\n",
    "Erstellen Sie für die übrigen Varianten eigene Codezellen auf gleicher Basis.\n",
    "Fügen Sie unten die weitere Messreihen ein.  \n",
    "Nutzen Sie dazu die gleiche Struktur (Spalten: Drehzahl, Spannung, Strom).  \n",
    "Die Leistung wird automatisch berechnet."
   ]
  },
  {
   "cell_type": "code",
   "execution_count": 49,
   "id": "a8d02568-6bb1-4bf2-9987-892cf3d4d312",
   "metadata": {
    "scrolled": true
   },
   "outputs": [
    {
     "data": {
      "image/png": "[encoded data removed]",
      "text/plain": [
       "<Figure size 800x250 with 1 Axes>"
      ]
     },
     "metadata": {},
     "output_type": "display_data"
    }
   ],
   "source": [
    "import matplotlib.pyplot as plt\n",
    "\n",
    "# Messdaten\n",
    "drehzahl = [1493, 1367, 1205, 1020]\n",
    "spannung = [1.25, 1.06, 0.852, 0.6443]\n",
    "strom = [1.8, 12.8, 21.5, 28.5]\n",
    "leistung = [2.25, 13.568, 18.318, 18.354]\n",
    "\n",
    "# Inhalte der Tabelle\n",
    "spalten = [\"D [min⁻¹]\"] + drehzahl\n",
    "zeilen = [\n",
    "    [\"U [V]\"] + spannung,\n",
    "    [\"I [mA]\"] + strom,\n",
    "    [\"P [mW]\"] + leistung\n",
    "]\n",
    "\n",
    "# Tabelle zeichnen\n",
    "fig, ax = plt.subplots(figsize=(8, 2.5))\n",
    "ax.axis(\"off\")\n",
    "table = ax.table(\n",
    "    cellText=zeilen,\n",
    "    colLabels=spalten,\n",
    "    cellLoc=\"center\",\n",
    "    loc=\"center\"\n",
    ")\n",
    "\n",
    "# Layout anpassen\n",
    "table.auto_set_font_size(False)\n",
    "table.set_fontsize(11)\n",
    "table.scale(1.2, 1.5)\n",
    "\n",
    "plt.title(\"Tabelle 1: Messdaten von(----), optimiertes Profil\", weight=\"bold\", pad=3)\n",
    "plt.tight_layout()\n",
    "plt.show()"
   ]
  },
  {
   "cell_type": "markdown",
   "id": "696ff85d-2d53-4676-8901-5d6f14898d81",
   "metadata": {},
   "source": [
    "###  3.1.1. 3-Blatt-Rotor, optimiertes Profil\n",
    "\n",
    "Nutzen Sie das Beispiel oben als Vorlage. Tragen Sie hier Ihre eigenen Werte und Berechnungen ein.\n"
   ]
  },
  {
   "cell_type": "code",
   "execution_count": 50,
   "id": "ca768af3-2db1-4278-8a48-aedede660500",
   "metadata": {},
   "outputs": [],
   "source": [
    "# Hier bitte den eigenen Code einfügen:\n"
   ]
  },
  {
   "cell_type": "markdown",
   "id": "0761dc4b-0943-4959-89aa-61d675834980",
   "metadata": {},
   "source": [
    "*Kommentar oder Notiz zur Auswertung dieser Messreihe:*\n",
    "\n",
    "*(Hier kann ggf. eingetragen werden, was bei der Messung oder Berechnung aufgefallen ist, ob es Besonderheiten gab oder ob bestimmte Werte ausgeschlossen wurden.)*\n"
   ]
  },
  {
   "cell_type": "markdown",
   "id": "d9c202b6-9b83-4d07-bc87-97bc22125ba9",
   "metadata": {},
   "source": [
    "*Notizfeld für eigene Bemerkungen zur Messreihe oder Berechnung:*"
   ]
  },
  {
   "cell_type": "markdown",
   "id": "12ae2491-f420-4cb7-9e2a-afe8e13d91af",
   "metadata": {},
   "source": [
    "### 3.1.2. 4-Blatt-Rotor, optimiertes Profil\n",
    "\n",
    "Nutzen Sie das Beispiel oben als Vorlage. Tragen Sie hier Ihre eigenen Werte und Berechnungen ein.\n"
   ]
  },
  {
   "cell_type": "code",
   "execution_count": 51,
   "id": "6143cec9-9996-4bfe-a74c-64b9e47089cd",
   "metadata": {},
   "outputs": [],
   "source": [
    "# Hier bitte den eigenen Code einfügen:\n"
   ]
  },
  {
   "cell_type": "markdown",
   "id": "709fbbeb-f246-4f8c-869a-7686b38a9e87",
   "metadata": {},
   "source": [
    "*Notizfeld für eigene Bemerkungen zur Messreihe oder Berechnung:*"
   ]
  },
  {
   "cell_type": "markdown",
   "id": "6548e4f6-a928-4a0c-a8f0-596e250db141",
   "metadata": {},
   "source": [
    " ### 3.1.3. 3-Blatt-Rotor, Flaches Profil\n",
    "\n",
    "Nutzen Sie das Beispiel oben als Vorlage. Tragen Sie hier Ihre eigenen Werte und Berechnungen ein."
   ]
  },
  {
   "cell_type": "code",
   "execution_count": 52,
   "id": "077bd516-192b-4cc0-81c4-ea636188bf4c",
   "metadata": {},
   "outputs": [],
   "source": [
    "# Hier bitte den eigenen Code einfügen:\n"
   ]
  },
  {
   "cell_type": "markdown",
   "id": "ce6860c9-898b-4ffa-940b-3835779a58d9",
   "metadata": {},
   "source": [
    "*Notizfeld für eigene Bemerkungen zur Messreihe oder Berechnung:*"
   ]
  },
  {
   "cell_type": "markdown",
   "id": "be0c5cea-e3cc-4f3f-84d7-4145bedae3a2",
   "metadata": {},
   "source": [
    " ### 3.1.4. Savonius-Rotor \n",
    "\n",
    "Nutzen Sie das Beispiel oben als Vorlage. Tragen Sie hier Ihre eigenen Werte und Berechnungen ein."
   ]
  },
  {
   "cell_type": "code",
   "execution_count": 53,
   "id": "8564930c-04cf-41c1-8194-0a79447cf596",
   "metadata": {},
   "outputs": [],
   "source": [
    "# Hier bitte den eigenen Code einfügen:\n"
   ]
  },
  {
   "cell_type": "markdown",
   "id": "48b6d6a1-18d5-465a-a24c-815b460e55ff",
   "metadata": {},
   "source": [
    "*Notizfeld für eigene Bemerkungen zur Messreihe oder Berechnung:*"
   ]
  },
  {
   "cell_type": "markdown",
   "id": "e7bc5c33-2777-4b4f-b2a4-182a09eafc40",
   "metadata": {},
   "source": [
    "---"
   ]
  },
  {
   "cell_type": "markdown",
   "id": "1be576dc-2d66-4c8d-8065-7e26c93029ec",
   "metadata": {},
   "source": [
    "## 3.2 U-I-Kennlinien und grafischer Vergleich\n",
    "\n",
    "In diesem Abschnitt sollen Sie die jeweiligen U-I-Kennlinien für die verschiedenen Rotorvarianten grafisch darstellen. Anschließend vergleichen Sie die Ergebnisse.\n",
    "\n",
    "Nutzen Sie zur Darstellung `matplotlib.pyplot`. Ein Beispiel finden Sie unterhalb.\n"
   ]
  },
  {
   "cell_type": "code",
   "execution_count": 54,
   "id": "47b714da-ecd9-47e3-bcfd-40f5d918ac3b",
   "metadata": {},
   "outputs": [
    {
     "data": {
      "image/png": "[encoded data removed]",
      "text/plain": [
       "<Figure size 900x600 with 1 Axes>"
      ]
     },
     "metadata": {},
     "output_type": "display_data"
    }
   ],
   "source": [
    "# Darstellung der U-I-Kennlinien für zwei Rotorvarianten:\n",
    "# - 3-Blatt-Rotor optimiertes Profil\n",
    "# - 4-Blatt-Rotor optimiertes Profil\n",
    "\n",
    "import matplotlib.pyplot as plt\n",
    "\n",
    "# Messdaten: Stromstärke I [mA] und Spannung U [V]\n",
    "\n",
    "# 3-Blatt-Rotor (optimiertes Profil)\n",
    "i_3blatt = [12.5, 21.7, 30.3]\n",
    "u_3blatt = [3.42, 3.20, 3.00]\n",
    "\n",
    "# 4-Blatt-Rotor (optimiertes Profil)\n",
    "i_4blatt = [10.0, 18.0, 28.0]\n",
    "u_4blatt = [3.37, 3.00, 2.80]\n",
    "\n",
    "# Plot erstellen\n",
    "plt.figure(figsize=(9, 6))\n",
    "\n",
    "# Punktdarstellung (kein Linienplot)\n",
    "plt.plot(i_3blatt, u_3blatt, 'o', label='3-Blatt Optimiert', color='blue')\n",
    "plt.plot(i_4blatt, u_4blatt, 'o', label='4-Blatt Optimiert', color='red')\n",
    "\n",
    "# Achsenbeschriftung und Titel\n",
    "plt.xlabel(\"Strom I [mA]\")\n",
    "plt.ylabel(\"Spannung U [V]\")\n",
    "plt.title(\"a. U-I-Kennlinien\")\n",
    "\n",
    "# Zusatzoptionen: Gitter, Legende, Layout\n",
    "plt.grid(True)\n",
    "plt.legend()\n",
    "plt.tight_layout()\n",
    "\n",
    "# Diagramm anzeigen\n",
    "plt.show()\n"
   ]
  },
  {
   "cell_type": "markdown",
   "id": "c0f0ac9a-77a1-47b1-917b-f5ba7b610126",
   "metadata": {},
   "source": [
    "#### 3.2.1. Vergleich U-I-Kennlinien (3-Blatt optimiert vs. 4-Blatt optimiert)\n",
    "\n",
    "Stellen Sie die U-I-Kennlinien beider Rotorvarianten grafisch dar. Nutzen Sie das Beispiel oben als Vorlage und tragen Sie ggf. Ihre eigenen Messwerte ein.\n"
   ]
  },
  {
   "cell_type": "code",
   "execution_count": 55,
   "id": "5eaa0d1b-1858-45ad-978d-00bb37073336",
   "metadata": {},
   "outputs": [],
   "source": [
    "# Hier bitte den eigenen Code einfügen:"
   ]
  },
  {
   "cell_type": "markdown",
   "id": "a62415a0-20e8-42a8-87c2-be53cba08b59",
   "metadata": {},
   "source": [
    "*Notizfeld für eigene Bemerkungen zur oder Besonderheiten zu Ihrem Diagramm oder Berechnung:*"
   ]
  },
  {
   "cell_type": "markdown",
   "id": "4c50a86f-9c55-4e5b-bdb9-853c6d647425",
   "metadata": {},
   "source": [
    "#### 3.2.2. Vergleich U-I-Kennlinien (3-Blatt optimiert vs. 3-Blatt flach)"
   ]
  },
  {
   "cell_type": "code",
   "execution_count": 56,
   "id": "fcd87393-93ad-4c6d-94ce-a9608bb47c07",
   "metadata": {},
   "outputs": [],
   "source": [
    "# Hier bitte den eigenen Code einfügen:\n"
   ]
  },
  {
   "cell_type": "markdown",
   "id": "31663f24-3bb2-4ec0-8287-1c2cb768a357",
   "metadata": {},
   "source": [
    "*Notizfeld für eigene Bemerkungen zur oder Besonderheiten zu Ihrem Diagramm oder Berechnung:*"
   ]
  },
  {
   "cell_type": "markdown",
   "id": "7c27e545-5e67-4c78-b93b-7fedd00e5b13",
   "metadata": {},
   "source": [
    "\n",
    "#### 3.2.3. Vergleich U-I-Kennlinien (3-Blatt optimiert vs.  Savonius Rotor)"
   ]
  },
  {
   "cell_type": "code",
   "execution_count": 57,
   "id": "388345c1-5f85-4e52-a5dd-acddab75ee1a",
   "metadata": {},
   "outputs": [],
   "source": [
    "# Hier bitte den eigenen Code einfügen:\n"
   ]
  },
  {
   "cell_type": "markdown",
   "id": "fba5c8a5-f906-4b17-b30f-a736c911f148",
   "metadata": {},
   "source": [
    "*Notizfeld für eigene Bemerkungen zur oder Besonderheiten zu Ihrem Diagramm oder Berechnung:*"
   ]
  },
  {
   "cell_type": "markdown",
   "id": "3f4ec83b-c2e0-409d-b82f-7270fa73f8d4",
   "metadata": {},
   "source": [
    "---"
   ]
  },
  {
   "cell_type": "markdown",
   "id": "94f38fc8-785f-4452-8397-1e28653ddcb5",
   "metadata": {},
   "source": [
    "## 3.3 D-P-Diagramme und Bestimmung des maximalen Leistungspunkts\n",
    "\n",
    "\n",
    "In diesem Abschnitt sollen Sie die jeweiligen D-P-Diagramm für die verschiedenen Rotorvarianten grafisch darstellen und miteinander vergleichen.\n",
    "\n",
    "Nutzen Sie dafür Ihre bestehende Lösung aus Aufgabe 3.1 und passen Sie die Daten entsprechend an. Achten Sie auf:\n",
    "- Eine sinnvolle Darstellung beider Kennlinien im selben Diagramm\n",
    "- Unterschiedliche Farben und Legenden zur Unterscheidung\n",
    "- Achsenbeschriftung und einen passenden Titel\n",
    "\n",
    "\n",
    "**Maximaler Leistungspunkt:**\n",
    "- Bestimmen Sie den Punkt mit der **höchsten Leistung** direkt aus Ihren Messwerten.\n",
    "- Dieser Punkt kann durch einen farblichen Marker im Diagramm hervorgehoben oder in einem Kommentar unterhalb erwähnt werden.\n",
    "- Sie können die Vorgehensweise aus dem nachfolgenden **Beispielcode** übernehmen und an Ihre eigenen Messreihen anpassen.\n",
    "Verwenden Sie bei Bedarf Ihre eigene Methode oder übertragen Sie die Vorgehensweise aus vorherigen Aufgaben. \n",
    "\n",
    "**Hinweis:** Der Beispielcode zeigt, wie der maximale Leistungspunkt rechnerisch gefunden und im Diagramm markiert wird. Nutzen Sie ihn als Orientierung. Die Auswertung erfolgt auf Grundlage Ihrer eigenen Messdaten.\n",
    "\n"
   ]
  },
  {
   "cell_type": "code",
   "execution_count": 58,
   "id": "f05a8779-cffe-44c8-bf5e-dd8bb7b0003c",
   "metadata": {},
   "outputs": [
    {
     "data": {
      "image/png": "[encoded data removed]",
      "text/plain": [
       "<Figure size 1000x600 with 1 Axes>"
      ]
     },
     "metadata": {},
     "output_type": "display_data"
    }
   ],
   "source": [
    "import matplotlib.pyplot as plt  # Bibliothek zum Plotten von Diagrammen\n",
    "\n",
    "# Beispiel-Datenreihe 1 (Drehzahl und Leistung)\n",
    "drehzahl_1 = [1000, 1500, 2000, 2500, 3000]\n",
    "leistung_1 = [10, 30, 50, 45, 20]\n",
    "\n",
    "# Beispiel-Datenreihe 2 (Drehzahl und Leistung)\n",
    "drehzahl_2 = [1100, 1400, 1800, 2200]\n",
    "leistung_2 = [8, 25, 40, 30]\n",
    "\n",
    "# Maximalpunkt für Datenreihe 1 ermitteln\n",
    "max_idx_1 = leistung_1.index(max(leistung_1))\n",
    "max_d_1 = drehzahl_1[max_idx_1]\n",
    "max_p_1 = leistung_1[max_idx_1]\n",
    "\n",
    "# Maximalpunkt für Datenreihe 2 ermitteln\n",
    "max_idx_2 = leistung_2.index(max(leistung_2))\n",
    "max_d_2 = drehzahl_2[max_idx_2]\n",
    "max_p_2 = leistung_2[max_idx_2]\n",
    "\n",
    "# Diagramm erstellen\n",
    "plt.figure(figsize=(10, 6))\n",
    "\n",
    "# Nur Punkte darstellen (keine Linien)\n",
    "plt.plot(drehzahl_1, leistung_1, 'o', label='Versuchsreihe 1', color='blue')\n",
    "plt.plot(drehzahl_2, leistung_2, 's', label='Versuchsreihe 2', color='orange')\n",
    "\n",
    "# Maximalpunkte markieren\n",
    "plt.plot(max_d_1, max_p_1, 'ro', label=f'MPP 1: ({max_d_1}, {max_p_1})')\n",
    "plt.plot(max_d_2, max_p_2, 'go', label=f'MPP 2: ({max_d_2}, {max_p_2})')\n",
    "\n",
    "# Achsenbeschriftung und Titel\n",
    "plt.xlabel(\"Drehzahl D [1/min]\")\n",
    "plt.ylabel(\"Leistung P [mW]\")\n",
    "plt.title(\"Leistung in Abhängigkeit der Drehzahl\")\n",
    "plt.grid(True)\n",
    "plt.legend(loc= \"upper left\")\n",
    "plt.tight_layout()\n",
    "plt.show()\n",
    "\n",
    "\n"
   ]
  },
  {
   "cell_type": "markdown",
   "id": "ae08ac2c-9f23-4028-b3f4-89218af5cb21",
   "metadata": {},
   "source": [
    "#### 3.3.1.  vergleich D-P-Diagramme und der Punkt maximaler Leistung bestimmen (3-Blatt optimiert vs. 4-Blatt optimiert)\n"
   ]
  },
  {
   "cell_type": "code",
   "execution_count": 59,
   "id": "812c0994-9d6f-4d00-a483-3811313802fa",
   "metadata": {},
   "outputs": [],
   "source": [
    "# Eigene Auswertung oder Markierung des maximalen Leistungspunkts\n",
    "# Hier können Sie Ihren Code eintragen:"
   ]
  },
  {
   "cell_type": "markdown",
   "id": "6d3d48f6-fab0-46a7-b99c-c36ca8e3164d",
   "metadata": {},
   "source": [
    "*Notizfeld für eigene Bemerkungen zur Messreihe oder Berechnung:*"
   ]
  },
  {
   "cell_type": "markdown",
   "id": "cc193b5f-445b-4356-b754-28dc1e98bdaf",
   "metadata": {},
   "source": [
    "#### 3.3.2.  vergleich D-P-Diagramme und der Punkt maximaler Leistung bestimmen (3-Blatt optimiert vs. 3-Blatt flach)\n"
   ]
  },
  {
   "cell_type": "code",
   "execution_count": 60,
   "id": "42e0de89-39b6-45c3-b05e-7fc5d81ad1d3",
   "metadata": {},
   "outputs": [],
   "source": [
    "# Eigene Auswertung oder Markierung des maximalen Leistungspunkts\n",
    "# Hier können Sie Ihren Code eintragen:"
   ]
  },
  {
   "cell_type": "markdown",
   "id": "457eb4bb-ce03-47df-b4c4-6f4036fc9c74",
   "metadata": {},
   "source": [
    "*Notizfeld für eigene Bemerkungen zur Messreihe oder Berechnung:*"
   ]
  },
  {
   "cell_type": "markdown",
   "id": "c763b7e4-fd6c-4843-9acd-b69488188694",
   "metadata": {},
   "source": [
    "#### 3.3.3.  vergleich D-P-Diagramme und der Punkt maximaler Leistung bestimmen (3-Blatt optimiert vs.  Savonius Rotor)\n"
   ]
  },
  {
   "cell_type": "code",
   "execution_count": 61,
   "id": "14520cae-4099-4c70-8497-11e5552c06bf",
   "metadata": {},
   "outputs": [],
   "source": [
    "# Eigene Auswertung oder Markierung des maximalen Leistungspunkts\n",
    "# Hier können Sie Ihren Code eintragen:"
   ]
  },
  {
   "cell_type": "markdown",
   "id": "6fb6d25a-44d0-4eea-8772-2d301e6a70df",
   "metadata": {},
   "source": [
    "*Notizfeld für eigene Bemerkungen zur Messreihe oder Berechnung:*"
   ]
  },
  {
   "cell_type": "markdown",
   "id": "a8c2700a-a402-4142-aa3c-7d182eafbc29",
   "metadata": {},
   "source": [
    "---"
   ]
  },
  {
   "cell_type": "markdown",
   "id": "487d449d-f5ac-4962-94a8-19fb89d9985f",
   "metadata": {},
   "source": [
    "#### 3.3.4 Theoretische Betrachtung: Flügelanzahl & Leistungsoptimum\n",
    "\n",
    "**Fragestellung:**  \n",
    "Mit welcher Flügelanzahl kann die höchste Leistung erzielt werden?  \n",
    "Warum werden große Windkraftanlagen nahezu ausschließlich mit 3-Flügel-Rotoren gebaut?\n"
   ]
  },
  {
   "cell_type": "markdown",
   "id": "33e0ce96-9485-4c7a-984a-710f48bfb501",
   "metadata": {},
   "source": [
    "*Hier eigene Antwort eintragen:*\n"
   ]
  },
  {
   "cell_type": "markdown",
   "id": "11f4926b-4433-49b5-9094-f94fd849341d",
   "metadata": {},
   "source": [
    "#### 3.3.5 Theoretische Betrachtung: Leistungssteigerung durch optimiertes Flügelprofil\n",
    "\n",
    "**Fragestellung:**   \n",
    "Welche Leistungssteigerung kann durch das optimierte Flügelprofil verglichen mit dem flachen Profil generiert werden?"
   ]
  },
  {
   "cell_type": "markdown",
   "id": "7d722caf-f33e-4833-b383-0fcc7ce4ecf0",
   "metadata": {},
   "source": [
    "*Hier eigene Antwort eintragen:*\n"
   ]
  },
  {
   "cell_type": "markdown",
   "id": "f2e5d0c5-53ca-418d-aa4d-1f32d8401ae7",
   "metadata": {},
   "source": [
    "#### 3.3.6 Theoretische Betrachtung: Geeignete Windrotorbauart je nach Windumgebung\n",
    "\n",
    "**Fragestellung:**  \n",
    "Überlegen und begründen Sie, welche Windrotorbauart (Flügelrotor oder Savonius-Rotor) für den Betrieb in den folgenden Umgebungen am besten geeignet ist:\n",
    "\n",
    "- **i. Hohe Windgeschwindigkeit**  \n",
    "\n",
    "- **ii. Niedrige Windgeschwindigkeit**  \n",
    "\n",
    "- **iii. Stark wechselnde Windgeschwindigkeit**  \n",
    "\n"
   ]
  },
  {
   "cell_type": "markdown",
   "id": "f4db0356-2e7d-4569-846b-0576f361159c",
   "metadata": {},
   "source": [
    "*Hier eigene Antwort eintragen:*\n"
   ]
  },
  {
   "cell_type": "markdown",
   "id": "a7c00dcd-e99c-44eb-beb5-d05ac2c3106d",
   "metadata": {},
   "source": [
    "---"
   ]
  },
  {
   "cell_type": "markdown",
   "id": "84ea0030-a738-4124-bd8e-bfe3d2b31aba",
   "metadata": {},
   "source": [
    "## 3.4 Versuch 2: Einfluss des Anstellwinkels auf die Leistung\n",
    "\n",
    "In diesem Abschnitt tragen Sie Ihre Messdaten aus **Versuch 2** für die Anstellwinkel**α = 20°, 25°, 30° und 50°** ein und analysieren den Einfluss auf die Leistung.\n",
    "\n",
    "###  Schritt-für-Schritt-Vorgehen:\n",
    "\n",
    "1. **Datentabelle inklusive Leistung erstellen:**  \n",
    "   Tragen Sie Ihre Messwerte (Drehzahl, Spannung, Strom) direkt zusammen mit der berechneten Leistung $( P = U \\cdot I )$ in eine Tabelle ein.  \n",
    "   Nutzen Sie dazu den gleichen Aufbau wie in Abschnitt **3.1**.  \n",
    "\n",
    "2. **Diagramm erstellen:**  \n",
    "   Zeichnen Sie für die  Anstellwinkel ein U-IDiagramm, ein D-P-Diagramm und der maximale Leistungspunkt bestimmen.\n",
    "   Sie können dafür denselben Codeansatz wie in Abschnitt **3.3** verwenden und einfach Ihre neuen Werte einsetzen."
   ]
  },
  {
   "cell_type": "markdown",
   "id": "9f474b62-dda8-42a6-874d-ba4adc2174f0",
   "metadata": {},
   "source": [
    "### 3.4.1 Einfluss des Anstellwinkels auf die Leistung und Schutz realer Anlagen\n",
    "\n",
    "**Fragestellung:**  \n",
    "Welchen Einfluss hat der Anstellwinkel auf die maximal erzielte Leistung?  \n",
    "Wie kann das beobachtete Verhalten für den Betrieb realer Windkraftanlagen genutzt werden, um Schäden an der Anlage zu vermeiden?  \n",
    "Wie heißt die entsprechende Regelung?\n"
   ]
  },
  {
   "cell_type": "markdown",
   "id": "955d730d-9ee0-49c6-95b2-938877602b29",
   "metadata": {},
   "source": [
    "*Antwort:*  \n",
    "*(*Bitte tragen Sie Ihre Antwort hier ein*):*"
   ]
  },
  {
   "cell_type": "markdown",
   "id": "cd1e4ca8-7e85-45b2-bf97-95b29cce4dcd",
   "metadata": {},
   "source": [
    "\n",
    " \n",
    "---"
   ]
  },
  {
   "cell_type": "markdown",
   "id": "3ec30172-076c-49c8-b551-8dc2258b57b0",
   "metadata": {},
   "source": [
    "## 3.5 Versuch 3: Energiebilanz, Wirkungsgrad und Schnelllaufzahl\n",
    "\n",
    "Tragen Sie in einer Tabelle Ihre gemessenen Werte ein. Anschließend berechnen Sie folgende Größen:\n",
    "1.  Angriffsfläche $A$, Windleistung $(P_\\text{Wind})$ und die Luftdichte $(\\rho)$ anhand des beigefügten Diagramms (siehe $Abbildung (1)$ in der  Aufgabenstellung)\n",
    "2.  Nennleistung $(P_N)$ der Windkraftanlage\n",
    "3.  Energiebilanzquotient $(\\varepsilon)$ und Wirkungsgrad $(\\eta)$ der Windkraftanlage\n",
    "4.  Schnelllaufzahl $(\\lambda)$ der Windkraftanlage\n",
    "5.  Energieverluste und deren Ursachen\n",
    "6.  Vergleich Wirkungsgrad der Versuchsanlage mit realen Windkraftanlagen\n",
    "\n",
    "$Hinweis$: Für jede Aufgabe soll eine eigene Markdown-Zelle erstellt werden. Nutzen Sie diese zur Beschreibung Ihrer Herangehensweise, Ihrer Ergebnisse oder auch für Zwischenkommentare.\n",
    "\n",
    "$Tipp$: Orientieren Sie sich an Ihrer Vorgehensweise in den vorherigen Abschnitten (z. B. 3.1 und 3.2). Nutzen Sie dieselbe Code-Struktur zur Erstellung der Tabelle und Berechnung.\n"
   ]
  },
  {
   "cell_type": "markdown",
   "id": "5e9f2b6a-302f-4165-9939-d5bd2c6406bd",
   "metadata": {},
   "source": []
  },
  {
   "cell_type": "code",
   "execution_count": null,
   "id": "bcc7bd07-0529-45eb-a558-92d1fe681e56",
   "metadata": {},
   "outputs": [],
   "source": []
  },
  {
   "cell_type": "markdown",
   "id": "b134b0e4-f401-494e-b4f6-6121d493f671",
   "metadata": {},
   "source": [
    "# 3. Quellen"
   ]
  }
 ],
 "metadata": {
  "kernelspec": {
   "display_name": "Python [conda env:base] *",
   "language": "python",
   "name": "conda-base-py"
  },
  "language_info": {
   "codemirror_mode": {
    "name": "ipython",
    "version": 3
   },
   "file_extension": ".py",
   "mimetype": "text/x-python",
   "name": "python",
   "nbconvert_exporter": "python",
   "pygments_lexer": "ipython3",
   "version": "3.12.7"
  }
 },
 "nbformat": 4,
 "nbformat_minor": 5
}
